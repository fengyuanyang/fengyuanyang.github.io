{
 "cells": [
  {
   "cell_type": "markdown",
   "metadata": {},
   "source": [
    "# What's [docker](https://www.docker.com/)\n",
    ">* Lightwgiht and secure platform \n",
    "* Simply build and run apps\n",
    "* Run on Windows and Mac\n",
    "* Rely on Images and Containers"
   ]
  },
  {
   "cell_type": "markdown",
   "metadata": {},
   "source": [
    "-----\n",
    "# Images and Containers"
   ]
  },
  {
   "cell_type": "markdown",
   "metadata": {},
   "source": [
    "## What's Docker Image\n",
    " **Read only template composed of layered file system**\n",
    " > * A definition and blueprint\n",
    "     * document things(what operating system to use)\n",
    "* Used to build a container\n",
    "* User share common files to build container"
   ]
  },
  {
   "cell_type": "markdown",
   "metadata": {},
   "source": [
    "<table align=\"left\">\n",
    "    <thead>\n",
    "        <th>\n",
    "            DockerFile\n",
    "        </th>\n",
    "    </thead>\n",
    "    <tr>\n",
    "        <td align=\"left\">Exec commands</td>\n",
    "        <td>67sdf897dsf88</td>\n",
    "    </tr>\n",
    "\n",
    "    <tr>\n",
    "        <td align=\"left\">python</td>\n",
    "        <td>90wefsd0fi90</td>\n",
    "    </tr>\n",
    "    <tr>\n",
    "        <td>java1.8</td>\n",
    "        <td>32j4ljlk234kj</td>\n",
    "    </tr>\n",
    "    <tr>\n",
    "        <td>ubuntu:15.04</td>\n",
    "        <td>klj2312kk3j12</td>\n",
    "    </tr>\n",
    "</table>"
   ]
  },
  {
   "cell_type": "markdown",
   "metadata": {},
   "source": [
    "## What's Docker Container"
   ]
  },
  {
   "cell_type": "markdown",
   "metadata": {},
   "source": [
    "*   A list item with a blockquote:\n",
    "\n",
    "    > This is a blockquote\n",
    "    > inside a list item."
   ]
  },
  {
   "cell_type": "markdown",
   "metadata": {},
   "source": [
    "This is a normal paragraph:\n",
    "\n",
    "    This is a code block.\n",
    "    System.out.println(\"aaaa\");\n",
    "<code>asdfadsf</code>"
   ]
  },
  {
   "cell_type": "code",
   "execution_count": null,
   "metadata": {
    "collapsed": true
   },
   "outputs": [],
   "source": []
  }
 ],
 "metadata": {
  "kernelspec": {
   "display_name": "Python 3",
   "language": "python",
   "name": "python3"
  },
  "language_info": {
   "codemirror_mode": {
    "name": "ipython",
    "version": 3
   },
   "file_extension": ".py",
   "mimetype": "text/x-python",
   "name": "python",
   "nbconvert_exporter": "python",
   "pygments_lexer": "ipython3",
   "version": "3.6.2"
  }
 },
 "nbformat": 4,
 "nbformat_minor": 2
}
