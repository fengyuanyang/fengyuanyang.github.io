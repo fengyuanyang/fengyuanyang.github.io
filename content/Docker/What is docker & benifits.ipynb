{
 "cells": [
  {
   "cell_type": "markdown",
   "metadata": {},
   "source": [
    "# What's docker\n",
    "- ### Lightwgiht and secure platform \n",
    "- ### Simply building and running apps in different environment.\n",
    "    1. aa\n",
    "    2. bb\n",
    "- ### Run on both Windows and Mac Development machines(Virtual macnine is needed)\n",
    "- ### Relies on Images and Containers\n",
    "<span style=\"color:blue\">aaaa </span>"
   ]
  },
  {
   "cell_type": "markdown",
   "metadata": {},
   "source": [
    "What's Image"
   ]
  },
  {
   "cell_type": "markdown",
   "metadata": {},
   "source": [
    "What's Container"
   ]
  }
 ],
 "metadata": {
  "kernelspec": {
   "display_name": "Python 3",
   "language": "python",
   "name": "python3"
  },
  "language_info": {
   "codemirror_mode": {
    "name": "ipython",
    "version": 3
   },
   "file_extension": ".py",
   "mimetype": "text/x-python",
   "name": "python",
   "nbconvert_exporter": "python",
   "pygments_lexer": "ipython3",
   "version": "3.6.2"
  }
 },
 "nbformat": 4,
 "nbformat_minor": 2
}
