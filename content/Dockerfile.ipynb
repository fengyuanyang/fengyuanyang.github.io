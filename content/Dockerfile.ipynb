{
 "cells": [
  {
   "cell_type": "markdown",
   "metadata": {},
   "source": [
    "## Dockerfile\n",
    "**Nothing more than a text file with instructions in it**"
   ]
  },
  {
   "cell_type": "markdown",
   "metadata": {},
   "source": [
    "* Text file used to build docker images(any filename is fine)\n",
    "* Contains build instrucitons\n",
    "* Instructions create intermediate image that can cached to speed up future builds\n",
    "    \n",
    "    Docker File -> $docker build -> Docker Image\n",
    "\n",
    "**Docker Image can be used to create a docker container**"
   ]
  },
  {
   "cell_type": "markdown",
   "metadata": {},
   "source": [
    "### Command\n",
    "\n",
    "* FROM - Set the Base Image\n",
    "* MAINTAINER - Set the Author field of the generated images\n",
    "* RUN - Add commands you want to run in the container\n",
    "* COPY - copy files or directories from <src> and adds them to the filesystem of container at the path <dest>\n",
    "* ENTRYPOINT - configure a container that will run as an executable\n",
    "* WORKDIR - set the working directory for RUN,CMD, ENTRYPOINT, COPY and ADD\n",
    "* EXPOSE - inform Docker that the container listens on the specified network ports at runtime\n",
    "* VOLUME - creates a mount point with the specified name and marks it as holding externally mounted volumes from native host or other containers"
   ]
  },
  {
   "cell_type": "markdown",
   "metadata": {},
   "source": [
    "## Demo\n",
    "Build a custom Node.js Docker\n",
    "And then convert that image into a running container"
   ]
  },
  {
   "cell_type": "markdown",
   "metadata": {},
   "source": [
    "    FROM python:3.7\n",
    "    ENV PYTHONUNBUFFERED 1\n",
    "    RUN mkdir /code\n",
    "    WORKDIR /code\n",
    "    COPY requirements.txt /code/\n",
    "    RUN pip install -r requirements.txt\n",
    "    COPY . /code/\n",
    "    EXPOSE 8000"
   ]
  },
  {
   "cell_type": "markdown",
   "metadata": {},
   "source": [
    "### Building A Custom Image from Docker File\n",
    "**Usage**\n",
    "    \n",
    "    docker build -t <name> . "
   ]
  },
  {
   "cell_type": "markdown",
   "metadata": {},
   "source": [
    "** Run django image **\n",
    "\n",
    "    docker run -v $(pwd):/code -p 8000:8000 -it <name> bash"
   ]
  },
  {
   "cell_type": "markdown",
   "metadata": {},
   "source": [
    "djangofile\n",
    "docker-compose run web python3 manage.py createsuperuser\n",
    "\n",
    "** Initial django project **\n",
    "    \n",
    "    django-admin startproject example .\n",
    "\n",
    "** Create user **\n",
    "\n",
    "    python manage.py migrate\n",
    "    python manage.py createsuperuser\n",
    "    \n",
    "** Run Server **\n",
    "    \n",
    "    python3 manage.py runserver 0.0.0.0:8000"
   ]
  }
 ],
 "metadata": {
  "kernelspec": {
   "display_name": "Python 3",
   "language": "python",
   "name": "python3"
  },
  "language_info": {
   "codemirror_mode": {
    "name": "ipython",
    "version": 3
   },
   "file_extension": ".py",
   "mimetype": "text/x-python",
   "name": "python",
   "nbconvert_exporter": "python",
   "pygments_lexer": "ipython3",
   "version": "3.6.2"
  }
 },
 "nbformat": 4,
 "nbformat_minor": 2
}
