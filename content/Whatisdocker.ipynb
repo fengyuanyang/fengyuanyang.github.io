{
 "cells": [
  {
   "cell_type": "markdown",
   "metadata": {},
   "source": [
    "## What's [docker](https://www.docker.com/)\n",
    ">* Lightwgiht and secure platform \n",
    "* Simply build and run apps\n",
    "* Run on Windows and Mac,...etc [Supported platform](https://docs.docker.com/install/#supported-platforms)\n",
    "* Rely on Images and Containers"
   ]
  },
  {
   "attachments": {},
   "cell_type": "markdown",
   "metadata": {},
   "source": [
    "![Alt Text](dockerandvm.png)"
   ]
  },
  {
   "cell_type": "markdown",
   "metadata": {},
   "source": [
    "-----\n",
    "### What's Docker Machine\n",
    " **Let you install Docker Engine on virtual hosts,**\n",
    " \n",
    "> * Amazon Web Services\n",
    "* Microsoft Azure\n",
    "* Digital Ocean\n",
    "* Exoscale\n",
    "* Google Compute Engine\n",
    "* Generic\n",
    "* Microsoft Hyper-V\n",
    "* OpenStack\n",
    "* Rackspace\n",
    "* IBM Softlayer\n",
    "* Oracle VirtualBox\n",
    "* VMware vCloud Air\n",
    "* VMware Fusion\n",
    "* VMware vSphere\n",
    "* VMware Workstation (unofficial plugin, not supported by Docker)\n",
    "* Grid 5000 (unofficial plugin, not supported by Docker)\n"
   ]
  },
  {
   "cell_type": "markdown",
   "metadata": {},
   "source": [
    "-----\n",
    "## Images and Containers"
   ]
  },
  {
   "cell_type": "markdown",
   "metadata": {},
   "source": [
    "### What's Docker Image\n",
    " **Read only template composed of layered file system**\n",
    " > * A definition and blueprint\n",
    "     * document things(what operating system to use)\n",
    "* Used to build a container\n",
    "* User share common files to build container"
   ]
  },
  {
   "cell_type": "markdown",
   "metadata": {},
   "source": [
    "<table align=\"left\">\n",
    "    <thead>\n",
    "        <th>\n",
    "            DockerFile\n",
    "        </th>\n",
    "    </thead>\n",
    "    <tr>\n",
    "        <td align=\"left\">Exec commands</td>\n",
    "        <td>67sdf897dsf88</td>\n",
    "    </tr>\n",
    "\n",
    "    <tr>\n",
    "        <td align=\"left\">python</td>\n",
    "        <td>90wefsd0fi90</td>\n",
    "    </tr>\n",
    "    <tr>\n",
    "        <td>java1.8</td>\n",
    "        <td>32j4ljlk234kj</td>\n",
    "    </tr>\n",
    "    <tr>\n",
    "        <td>ubuntu:15.04</td>\n",
    "        <td>klj2312kk3j12</td>\n",
    "    </tr>\n",
    "</table>"
   ]
  },
  {
   "cell_type": "markdown",
   "metadata": {},
   "source": [
    "### What's Docker Container\n",
    " **Created from image, thin R/W layer**\n",
    " > * **isolated** and **secured**\n",
    "* can be run, started, stopped, moved and deleted"
   ]
  },
  {
   "cell_type": "code",
   "execution_count": null,
   "metadata": {
    "collapsed": true
   },
   "outputs": [],
   "source": []
  }
 ],
 "metadata": {
  "kernelspec": {
   "display_name": "Python 3",
   "language": "python",
   "name": "python3"
  },
  "language_info": {
   "codemirror_mode": {
    "name": "ipython",
    "version": 3
   },
   "file_extension": ".py",
   "mimetype": "text/x-python",
   "name": "python",
   "nbconvert_exporter": "python",
   "pygments_lexer": "ipython3",
   "version": "3.6.2"
  }
 },
 "nbformat": 4,
 "nbformat_minor": 2
}
