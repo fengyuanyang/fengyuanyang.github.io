{
 "cells": [
  {
   "cell_type": "markdown",
   "metadata": {},
   "source": [
    "## [Jenkins and Docker](https://jenkins.io/solutions/docker/)"
   ]
  },
  {
   "cell_type": "markdown",
   "metadata": {},
   "source": [
    "### Run reference\n",
    "* --rm docker removes the anonymous volumes associated with the container when the container is removed\n",
    "* -i Keep STDIN open even if not attached\n",
    "* -t Allocate a pseudo-TTY\n",
    "* --volumes-from mount all volumes from the given containers\n",
    "* -d detached mode\n",
    "* -v Bind mount a volume\n",
    "\n",
    "**For interactive process(like a shell), must use -i -t together in order to allocate a tty for the container process**"
   ]
  },
  {
   "cell_type": "markdown",
   "metadata": {},
   "source": [
    "### Jenkins in Docker\n",
    "#### Three ways for setting /var/jenkins_home into docker"
   ]
  },
  {
   "cell_type": "markdown",
   "metadata": {},
   "source": [
    "**Inside a container**\n",
    "\n",
    "    docker run -p 8080:8080 jenkins/jenkins:lts"
   ]
  },
  {
   "cell_type": "markdown",
   "metadata": {},
   "source": [
    "**Mounted from a host directory**\n",
    "\n",
    "    docker run -v <host-path>:/var/jenkins_home -p 8080:8080 -p 50000:50000 jenkins/jenkins:lts"
   ]
  },
  {
   "cell_type": "markdown",
   "metadata": {},
   "source": [
    "**Mounted from a data volume container**\n",
    "\n",
    "**[What is busybox](https://busybox.net/about.html)**\n",
    "    \n",
    "    docker run -v <host-path>:/var/jenkins_home --name=data busybox true\n",
    "\n",
    "    ## first master jenkins\n",
    "    docker run --volumes-from=data -p 8080:8080 -p 50000:50000 jenkins/jenkins:lts\n",
    "    ## second master jenkins\n",
    "    docker run --volumes-from=data -p 8081:8080 -p 50001:50000 jenkins/jenkins:lts\n",
    "    .... so on"
   ]
  },
  {
   "cell_type": "markdown",
   "metadata": {},
   "source": [
    "### Admin usage"
   ]
  },
  {
   "cell_type": "markdown",
   "metadata": {},
   "source": [
    "**Install Plugins (from /tmp/plugins)**\n",
    "    ## run ubuntu and get into ubuntu \n",
    "    docker run -t -i --rm --volumes-form=frog-data -v /tmp:/tmp ubuntu bash\n",
    "    root@:/# cd /var/jenkins_home/plugins\n",
    "    root@:/# cp /tmp/plugins/* .\n",
    "    root@:/# exit\n",
    "\n",
    "**Three levels of backup**\n",
    " - Vmware: dump of entire docker server\n",
    " - Dokcer: copy all Data Volume\n",
    " - Jenkins: [SCM Sync plugin](https://wiki.jenkins.io/display/JENKINS/SCM+Sync+configuration+plugin)\n",
    " \n",
    "**Security**\n",
    " - [Role Strategy plugin](https://wiki.jenkins.io/display/JENKINS/Role+Strategy+Plugin)"
   ]
  },
  {
   "cell_type": "markdown",
   "metadata": {},
   "source": [
    "### SLAVES"
   ]
  },
  {
   "cell_type": "markdown",
   "metadata": {},
   "source": [
    "    docker run jenkins/jnlp-slave -url http://jenkins-server:port -workDir=/home/jenkins/agent <secret> <agent name>"
   ]
  },
  {
   "cell_type": "markdown",
   "metadata": {},
   "source": [
    "![Alt Text](DockerAndJenkins-1.png)\n",
    "![Alt Text](DockerAndJenkins-2.png)"
   ]
  },
  {
   "cell_type": "markdown",
   "metadata": {},
   "source": [
    "    docker run jenkins/jnlp-slave -url http://127.0.0.1:8080 -workDir=/home/jenkins/agent 18f8339a001c5fd239a3e9fadc20dc023367605bfa81d4b6281093e2010ec66e build_machine"
   ]
  },
  {
   "cell_type": "code",
   "execution_count": null,
   "metadata": {
    "collapsed": true
   },
   "outputs": [],
   "source": []
  }
 ],
 "metadata": {
  "kernelspec": {
   "display_name": "Python 3",
   "language": "python",
   "name": "python3"
  },
  "language_info": {
   "codemirror_mode": {
    "name": "ipython",
    "version": 3
   },
   "file_extension": ".py",
   "mimetype": "text/x-python",
   "name": "python",
   "nbconvert_exporter": "python",
   "pygments_lexer": "ipython3",
   "version": "3.6.2"
  }
 },
 "nbformat": 4,
 "nbformat_minor": 2
}
